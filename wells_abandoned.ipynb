{
 "cells": [
  {
   "cell_type": "code",
   "execution_count": 8,
   "metadata": {
    "colab": {
     "base_uri": "https://localhost:8080/",
     "height": 35
    },
    "id": "uqOnDSnO2SrC",
    "outputId": "09dc8f8c-0027-46f4-aab8-59ea519ae4b9"
   },
   "outputs": [
    {
     "data": {
      "application/vnd.google.colaboratory.intrinsic+json": {
       "type": "string"
      },
      "text/plain": [
       "'1.1.5'"
      ]
     },
     "execution_count": 8,
     "metadata": {},
     "output_type": "execute_result"
    }
   ],
   "source": [
    "#Import pandas\n",
    "from __future__ import print_function\n",
    "\n",
    "import pandas as pd\n",
    "pd.__version__"
   ]
  },
  {
   "cell_type": "code",
   "execution_count": 9,
   "metadata": {
    "id": "hKzkdUUH_gk_"
   },
   "outputs": [],
   "source": [
    "import numpy as np\n",
    "\n",
    "import matplotlib as mpl\n",
    "import matplotlib.pyplot as plt\n",
    "\n",
    "from google.colab import files"
   ]
  },
  {
   "cell_type": "code",
   "execution_count": 10,
   "metadata": {
    "id": "QwFFvwwa2fSH"
   },
   "outputs": [],
   "source": [
    "df = pd.read_csv(\"wells_abandoned.csv\")\n",
    "#Remove spaces in column names\n",
    "df.columns = df.columns.str.replace(' ', '')"
   ]
  },
  {
   "cell_type": "code",
   "execution_count": 11,
   "metadata": {
    "colab": {
     "base_uri": "https://localhost:8080/"
    },
    "id": "-jxx63Mw6P7u",
    "outputId": "c917ab63-b7c2-4ccd-81ce-2c3009b2c869"
   },
   "outputs": [
    {
     "data": {
      "text/plain": [
       "UN    2375\n",
       "UL    2342\n",
       "UM    2134\n",
       "Name: WELLSTATUSCODE, dtype: int64"
      ]
     },
     "execution_count": 11,
     "metadata": {},
     "output_type": "execute_result"
    }
   ],
   "source": [
    "df.WELLSTATUSCODE.value_counts()\n",
    "#UN: well status unknown, but detail on location, etc, provided to DEC through misc. means\n",
    "#UL: well status unknown, but well located and inspection performed\n",
    "#UM: well status unknown, DEC was unable to locate the well"
   ]
  },
  {
   "cell_type": "code",
   "execution_count": 12,
   "metadata": {
    "id": "ILW2F4aA60G5"
   },
   "outputs": [],
   "source": [
    "#Filtering out wells that DEC was unable to locate\n",
    "df_located = df[df['WELLSTATUSCODE']!='UM']"
   ]
  },
  {
   "cell_type": "code",
   "execution_count": 13,
   "metadata": {
    "colab": {
     "base_uri": "https://localhost:8080/"
    },
    "id": "2CrFOE2DqsTD",
    "outputId": "376e710b-980e-42e5-df36-8456479d26e4"
   },
   "outputs": [
    {
     "data": {
      "text/plain": [
       "4717"
      ]
     },
     "execution_count": 13,
     "metadata": {},
     "output_type": "execute_result"
    }
   ],
   "source": [
    "len(df_located)"
   ]
  },
  {
   "cell_type": "code",
   "execution_count": 14,
   "metadata": {
    "colab": {
     "base_uri": "https://localhost:8080/",
     "height": 266
    },
    "id": "uLTJewf_4UN8",
    "outputId": "3daab050-938c-407b-d519-b6f6872c6abf"
   },
   "outputs": [
    {
     "data": {
      "text/html": [
       "<div>\n",
       "<style scoped>\n",
       "    .dataframe tbody tr th:only-of-type {\n",
       "        vertical-align: middle;\n",
       "    }\n",
       "\n",
       "    .dataframe tbody tr th {\n",
       "        vertical-align: top;\n",
       "    }\n",
       "\n",
       "    .dataframe thead th {\n",
       "        text-align: right;\n",
       "    }\n",
       "</style>\n",
       "<table border=\"1\" class=\"dataframe\">\n",
       "  <thead>\n",
       "    <tr style=\"text-align: right;\">\n",
       "      <th></th>\n",
       "      <th>region</th>\n",
       "      <th>count</th>\n",
       "    </tr>\n",
       "  </thead>\n",
       "  <tbody>\n",
       "    <tr>\n",
       "      <th>0</th>\n",
       "      <td>9</td>\n",
       "      <td>3880</td>\n",
       "    </tr>\n",
       "    <tr>\n",
       "      <th>1</th>\n",
       "      <td>8</td>\n",
       "      <td>557</td>\n",
       "    </tr>\n",
       "    <tr>\n",
       "      <th>2</th>\n",
       "      <td>7</td>\n",
       "      <td>222</td>\n",
       "    </tr>\n",
       "    <tr>\n",
       "      <th>3</th>\n",
       "      <td>6</td>\n",
       "      <td>48</td>\n",
       "    </tr>\n",
       "    <tr>\n",
       "      <th>4</th>\n",
       "      <td>4</td>\n",
       "      <td>6</td>\n",
       "    </tr>\n",
       "    <tr>\n",
       "      <th>5</th>\n",
       "      <td>5</td>\n",
       "      <td>3</td>\n",
       "    </tr>\n",
       "    <tr>\n",
       "      <th>6</th>\n",
       "      <td>3</td>\n",
       "      <td>1</td>\n",
       "    </tr>\n",
       "  </tbody>\n",
       "</table>\n",
       "</div>"
      ],
      "text/plain": [
       "   region  count\n",
       "0       9   3880\n",
       "1       8    557\n",
       "2       7    222\n",
       "3       6     48\n",
       "4       4      6\n",
       "5       5      3\n",
       "6       3      1"
      ]
     },
     "execution_count": 14,
     "metadata": {},
     "output_type": "execute_result"
    }
   ],
   "source": [
    "#Counting number of wells in each NYSDEC region\n",
    "wells_region = df_located.REGION.value_counts().rename_axis('region').reset_index(name='count')\n",
    "wells_region\n",
    "#Region 9: Western NY, Region 8: Western Finger Lakes\n",
    "#More details about NYSDEC regions: https://www.dec.ny.gov/about/558.html and https://www.dec.ny.gov/about/76070.html"
   ]
  },
  {
   "cell_type": "code",
   "execution_count": 15,
   "metadata": {
    "colab": {
     "base_uri": "https://localhost:8080/",
     "height": 297
    },
    "id": "TiWTIDD8mYDZ",
    "outputId": "54ec888b-f21f-4fb7-92cd-734e59dbf764"
   },
   "outputs": [
    {
     "data": {
      "text/plain": [
       "<matplotlib.axes._subplots.AxesSubplot at 0x7f2f7038cc50>"
      ]
     },
     "execution_count": 15,
     "metadata": {},
     "output_type": "execute_result"
    },
    {
     "data": {
      "image/png": "[encoded data removed]",
      "text/plain": [
       "<Figure size 432x288 with 1 Axes>"
      ]
     },
     "metadata": {
      "needs_background": "light"
     },
     "output_type": "display_data"
    }
   ],
   "source": [
    "wells_region.plot.bar(x='region', y='count', rot=0)"
   ]
  },
  {
   "cell_type": "code",
   "execution_count": 16,
   "metadata": {
    "colab": {
     "base_uri": "https://localhost:8080/"
    },
    "id": "-LbgqoSS4irJ",
    "outputId": "39a756d9-f8f5-4ac8-ef9b-a61b2864c0b7"
   },
   "outputs": [
    {
     "data": {
      "text/plain": [
       "9    0.822557\n",
       "8    0.118084\n",
       "7    0.047064\n",
       "6    0.010176\n",
       "4    0.001272\n",
       "5    0.000636\n",
       "3    0.000212\n",
       "Name: REGION, dtype: float64"
      ]
     },
     "execution_count": 16,
     "metadata": {},
     "output_type": "execute_result"
    }
   ],
   "source": [
    "#Calculating percentage of wells in each NYSDEC region\n",
    "df_located.REGION.value_counts(normalize=True)"
   ]
  },
  {
   "cell_type": "code",
   "execution_count": 17,
   "metadata": {
    "colab": {
     "base_uri": "https://localhost:8080/",
     "height": 359
    },
    "id": "ywxaiFJs20xk",
    "outputId": "9b07fc7b-69ba-480f-e16b-bbad12266430"
   },
   "outputs": [
    {
     "data": {
      "text/html": [
       "<div>\n",
       "<style scoped>\n",
       "    .dataframe tbody tr th:only-of-type {\n",
       "        vertical-align: middle;\n",
       "    }\n",
       "\n",
       "    .dataframe tbody tr th {\n",
       "        vertical-align: top;\n",
       "    }\n",
       "\n",
       "    .dataframe thead th {\n",
       "        text-align: right;\n",
       "    }\n",
       "</style>\n",
       "<table border=\"1\" class=\"dataframe\">\n",
       "  <thead>\n",
       "    <tr style=\"text-align: right;\">\n",
       "      <th></th>\n",
       "      <th>county</th>\n",
       "      <th>count</th>\n",
       "    </tr>\n",
       "  </thead>\n",
       "  <tbody>\n",
       "    <tr>\n",
       "      <th>0</th>\n",
       "      <td>Allegany</td>\n",
       "      <td>2075</td>\n",
       "    </tr>\n",
       "    <tr>\n",
       "      <th>1</th>\n",
       "      <td>Cattaraugus</td>\n",
       "      <td>1370</td>\n",
       "    </tr>\n",
       "    <tr>\n",
       "      <th>2</th>\n",
       "      <td>Steuben</td>\n",
       "      <td>418</td>\n",
       "    </tr>\n",
       "    <tr>\n",
       "      <th>3</th>\n",
       "      <td>Erie</td>\n",
       "      <td>253</td>\n",
       "    </tr>\n",
       "    <tr>\n",
       "      <th>4</th>\n",
       "      <td>Chautauqua</td>\n",
       "      <td>146</td>\n",
       "    </tr>\n",
       "    <tr>\n",
       "      <th>5</th>\n",
       "      <td>Oswego</td>\n",
       "      <td>118</td>\n",
       "    </tr>\n",
       "    <tr>\n",
       "      <th>6</th>\n",
       "      <td>Ontario</td>\n",
       "      <td>43</td>\n",
       "    </tr>\n",
       "    <tr>\n",
       "      <th>7</th>\n",
       "      <td>Tompkins</td>\n",
       "      <td>37</td>\n",
       "    </tr>\n",
       "    <tr>\n",
       "      <th>8</th>\n",
       "      <td>Oneida</td>\n",
       "      <td>33</td>\n",
       "    </tr>\n",
       "    <tr>\n",
       "      <th>9</th>\n",
       "      <td>Wyoming</td>\n",
       "      <td>33</td>\n",
       "    </tr>\n",
       "  </tbody>\n",
       "</table>\n",
       "</div>"
      ],
      "text/plain": [
       "        county  count\n",
       "0     Allegany   2075\n",
       "1  Cattaraugus   1370\n",
       "2      Steuben    418\n",
       "3         Erie    253\n",
       "4   Chautauqua    146\n",
       "5       Oswego    118\n",
       "6      Ontario     43\n",
       "7     Tompkins     37\n",
       "8       Oneida     33\n",
       "9      Wyoming     33"
      ]
     },
     "execution_count": 17,
     "metadata": {},
     "output_type": "execute_result"
    }
   ],
   "source": [
    "#Count number of wells in each county\n",
    "wells_county = df_located.COUNTY.value_counts().rename_axis('county').reset_index(name='count')\n",
    "wells_county.head(10)"
   ]
  },
  {
   "cell_type": "code",
   "execution_count": null,
   "metadata": {},
   "outputs": [],
   "source": [
    " # normalize for the above^^"
   ]
  },
  {
   "cell_type": "code",
   "execution_count": 18,
   "metadata": {
    "id": "egCRGQiHwAiq"
   },
   "outputs": [],
   "source": [
    "#Download CSV of number of unplugged and abandoned wells in each county – remove # in below script to run the download\n",
    "#wells_county.to_csv('unplug_abdn.csv') \n",
    "#files.download('unplug_abdn.csv')"
   ]
  },
  {
   "cell_type": "code",
   "execution_count": 19,
   "metadata": {
    "colab": {
     "base_uri": "https://localhost:8080/",
     "height": 324
    },
    "id": "Mtq1Sk2lozJI",
    "outputId": "047b1dbc-ce7f-40e7-924b-e290de9cd33b"
   },
   "outputs": [
    {
     "data": {
      "text/plain": [
       "([0, 1, 2, 3, 4, 5, 6, 7, 8, 9], <a list of 10 Text major ticklabel objects>)"
      ]
     },
     "execution_count": 19,
     "metadata": {},
     "output_type": "execute_result"
    },
    {
     "data": {
      "image/png": "[encoded data removed]",
      "text/plain": [
       "<Figure size 432x288 with 1 Axes>"
      ]
     },
     "metadata": {
      "needs_background": "light"
     },
     "output_type": "display_data"
    }
   ],
   "source": [
    "county = wells_county['county'].head(10)\n",
    "county_ct = wells_county['count'].head(10)\n",
    "\n",
    "plt.bar(county, county_ct, width = 0.4)\n",
    "plt.xticks(rotation=45)"
   ]
  },
  {
   "cell_type": "code",
   "execution_count": 20,
   "metadata": {
    "colab": {
     "base_uri": "https://localhost:8080/"
    },
    "id": "xTVm7tHQ4zAf",
    "outputId": "ed6c139e-ff8e-460c-f18b-53e3a5c6398d"
   },
   "outputs": [
    {
     "data": {
      "text/plain": [
       "Allegany       0.439898\n",
       "Cattaraugus    0.290439\n",
       "Steuben        0.088616\n",
       "Erie           0.053636\n",
       "Chautauqua     0.030952\n",
       "Oswego         0.025016\n",
       "Ontario        0.009116\n",
       "Tompkins       0.007844\n",
       "Oneida         0.006996\n",
       "Wyoming        0.006996\n",
       "Genesee        0.005088\n",
       "Livingston     0.004452\n",
       "Schuyler       0.004240\n",
       "Madison        0.003604\n",
       "Onondaga       0.002756\n",
       "Cayuga         0.002756\n",
       "Chemung        0.002120\n",
       "Yates          0.001908\n",
       "Broome         0.001696\n",
       "Tioga          0.001696\n",
       "Seneca         0.001484\n",
       "Jefferson      0.001272\n",
       "Lewis          0.001272\n",
       "Chenango       0.001060\n",
       "Monroe         0.000636\n",
       "Herkimer       0.000636\n",
       "Cortland       0.000636\n",
       "Niagara        0.000636\n",
       "Albany         0.000424\n",
       "Washington     0.000424\n",
       "Warren         0.000212\n",
       "Delaware       0.000212\n",
       "Montgomery     0.000212\n",
       "Schoharie      0.000212\n",
       "Orleans        0.000212\n",
       "Schenectady    0.000212\n",
       "Wayne          0.000212\n",
       "Sullivan       0.000212\n",
       "Name: COUNTY, dtype: float64"
      ]
     },
     "execution_count": 20,
     "metadata": {},
     "output_type": "execute_result"
    }
   ],
   "source": [
    "#Calculating percent of wells in each county\n",
    "df_located.COUNTY.value_counts(normalize=True)"
   ]
  },
  {
   "cell_type": "code",
   "execution_count": 21,
   "metadata": {
    "colab": {
     "base_uri": "https://localhost:8080/",
     "height": 824
    },
    "id": "pAGCvQTR3Kzk",
    "outputId": "a4116ddd-7a6b-4bdf-d9a3-ec03cdea9a35"
   },
   "outputs": [
    {
     "data": {
      "text/html": [
       "<div>\n",
       "<style scoped>\n",
       "    .dataframe tbody tr th:only-of-type {\n",
       "        vertical-align: middle;\n",
       "    }\n",
       "\n",
       "    .dataframe tbody tr th {\n",
       "        vertical-align: top;\n",
       "    }\n",
       "\n",
       "    .dataframe thead th {\n",
       "        text-align: right;\n",
       "    }\n",
       "</style>\n",
       "<table border=\"1\" class=\"dataframe\">\n",
       "  <thead>\n",
       "    <tr style=\"text-align: right;\">\n",
       "      <th></th>\n",
       "      <th>city</th>\n",
       "      <th>count</th>\n",
       "    </tr>\n",
       "  </thead>\n",
       "  <tbody>\n",
       "    <tr>\n",
       "      <th>0</th>\n",
       "      <td>Allegany</td>\n",
       "      <td>1142</td>\n",
       "    </tr>\n",
       "    <tr>\n",
       "      <th>1</th>\n",
       "      <td>Bolivar</td>\n",
       "      <td>954</td>\n",
       "    </tr>\n",
       "    <tr>\n",
       "      <th>2</th>\n",
       "      <td>Wirt</td>\n",
       "      <td>357</td>\n",
       "    </tr>\n",
       "    <tr>\n",
       "      <th>3</th>\n",
       "      <td>West Union</td>\n",
       "      <td>340</td>\n",
       "    </tr>\n",
       "    <tr>\n",
       "      <th>4</th>\n",
       "      <td>Alma</td>\n",
       "      <td>336</td>\n",
       "    </tr>\n",
       "    <tr>\n",
       "      <th>5</th>\n",
       "      <td>Genesee</td>\n",
       "      <td>178</td>\n",
       "    </tr>\n",
       "    <tr>\n",
       "      <th>6</th>\n",
       "      <td>Carrollton</td>\n",
       "      <td>83</td>\n",
       "    </tr>\n",
       "    <tr>\n",
       "      <th>7</th>\n",
       "      <td>Scio</td>\n",
       "      <td>79</td>\n",
       "    </tr>\n",
       "    <tr>\n",
       "      <th>8</th>\n",
       "      <td>Collins</td>\n",
       "      <td>61</td>\n",
       "    </tr>\n",
       "    <tr>\n",
       "      <th>9</th>\n",
       "      <td>Sandy Creek</td>\n",
       "      <td>56</td>\n",
       "    </tr>\n",
       "    <tr>\n",
       "      <th>10</th>\n",
       "      <td>Olean</td>\n",
       "      <td>50</td>\n",
       "    </tr>\n",
       "    <tr>\n",
       "      <th>11</th>\n",
       "      <td>Brant</td>\n",
       "      <td>48</td>\n",
       "    </tr>\n",
       "    <tr>\n",
       "      <th>12</th>\n",
       "      <td>Willing</td>\n",
       "      <td>45</td>\n",
       "    </tr>\n",
       "    <tr>\n",
       "      <th>13</th>\n",
       "      <td>Wellsville</td>\n",
       "      <td>45</td>\n",
       "    </tr>\n",
       "    <tr>\n",
       "      <th>14</th>\n",
       "      <td>Richland</td>\n",
       "      <td>39</td>\n",
       "    </tr>\n",
       "    <tr>\n",
       "      <th>15</th>\n",
       "      <td>Busti</td>\n",
       "      <td>36</td>\n",
       "    </tr>\n",
       "    <tr>\n",
       "      <th>16</th>\n",
       "      <td>Red House</td>\n",
       "      <td>34</td>\n",
       "    </tr>\n",
       "    <tr>\n",
       "      <th>17</th>\n",
       "      <td>Clarksville</td>\n",
       "      <td>30</td>\n",
       "    </tr>\n",
       "    <tr>\n",
       "      <th>18</th>\n",
       "      <td>Sheridan</td>\n",
       "      <td>29</td>\n",
       "    </tr>\n",
       "    <tr>\n",
       "      <th>19</th>\n",
       "      <td>Perrysburg</td>\n",
       "      <td>28</td>\n",
       "    </tr>\n",
       "    <tr>\n",
       "      <th>20</th>\n",
       "      <td>Alden</td>\n",
       "      <td>25</td>\n",
       "    </tr>\n",
       "    <tr>\n",
       "      <th>21</th>\n",
       "      <td>Hanover</td>\n",
       "      <td>25</td>\n",
       "    </tr>\n",
       "    <tr>\n",
       "      <th>22</th>\n",
       "      <td>UNK</td>\n",
       "      <td>19</td>\n",
       "    </tr>\n",
       "    <tr>\n",
       "      <th>23</th>\n",
       "      <td>Lancaster</td>\n",
       "      <td>18</td>\n",
       "    </tr>\n",
       "    <tr>\n",
       "      <th>24</th>\n",
       "      <td>Tonawanda</td>\n",
       "      <td>17</td>\n",
       "    </tr>\n",
       "  </tbody>\n",
       "</table>\n",
       "</div>"
      ],
      "text/plain": [
       "           city  count\n",
       "0      Allegany   1142\n",
       "1       Bolivar    954\n",
       "2          Wirt    357\n",
       "3    West Union    340\n",
       "4          Alma    336\n",
       "5       Genesee    178\n",
       "6    Carrollton     83\n",
       "7          Scio     79\n",
       "8       Collins     61\n",
       "9   Sandy Creek     56\n",
       "10        Olean     50\n",
       "11        Brant     48\n",
       "12      Willing     45\n",
       "13   Wellsville     45\n",
       "14     Richland     39\n",
       "15        Busti     36\n",
       "16    Red House     34\n",
       "17  Clarksville     30\n",
       "18     Sheridan     29\n",
       "19   Perrysburg     28\n",
       "20        Alden     25\n",
       "21      Hanover     25\n",
       "22          UNK     19\n",
       "23    Lancaster     18\n",
       "24    Tonawanda     17"
      ]
     },
     "execution_count": 21,
     "metadata": {},
     "output_type": "execute_result"
    }
   ],
   "source": [
    "#Calculating number of wells in each town\n",
    "wells_city = df_located.TOWN.value_counts().rename_axis('city').reset_index(name='count')\n",
    "wells_city.head(25)"
   ]
  },
  {
   "cell_type": "code",
   "execution_count": 22,
   "metadata": {
    "colab": {
     "base_uri": "https://localhost:8080/",
     "height": 325
    },
    "id": "YxjWmronsTfE",
    "outputId": "8c6bb5cb-283c-4481-8acc-96d17f6a76b1"
   },
   "outputs": [
    {
     "data": {
      "text/plain": [
       "([0, 1, 2, 3, 4, 5, 6, 7, 8, 9], <a list of 10 Text major ticklabel objects>)"
      ]
     },
     "execution_count": 22,
     "metadata": {},
     "output_type": "execute_result"
    },
    {
     "data": {
      "image/png": "[encoded data removed]",
      "text/plain": [
       "<Figure size 432x288 with 1 Axes>"
      ]
     },
     "metadata": {
      "needs_background": "light"
     },
     "output_type": "display_data"
    }
   ],
   "source": [
    "city = wells_city['city'].head(10)\n",
    "city_ct = wells_city['count'].head(10)\n",
    "\n",
    "plt.bar(city, city_ct, width = 0.4)\n",
    "plt.xticks(rotation=45)"
   ]
  },
  {
   "cell_type": "code",
   "execution_count": 23,
   "metadata": {
    "colab": {
     "base_uri": "https://localhost:8080/"
    },
    "id": "DFMFe9fB45Ya",
    "outputId": "4eafb0c9-75dc-4006-acc6-c8f10a478a15"
   },
   "outputs": [
    {
     "data": {
      "text/plain": [
       "Allegany       0.242103\n",
       "Bolivar        0.202247\n",
       "Wirt           0.075684\n",
       "West Union     0.072080\n",
       "Alma           0.071232\n",
       "Genesee        0.037736\n",
       "Carrollton     0.017596\n",
       "Scio           0.016748\n",
       "Collins        0.012932\n",
       "Sandy Creek    0.011872\n",
       "Olean          0.010600\n",
       "Brant          0.010176\n",
       "Willing        0.009540\n",
       "Wellsville     0.009540\n",
       "Richland       0.008268\n",
       "Busti          0.007632\n",
       "Red House      0.007208\n",
       "Clarksville    0.006360\n",
       "Sheridan       0.006148\n",
       "Perrysburg     0.005936\n",
       "Alden          0.005300\n",
       "Hanover        0.005300\n",
       "UNK            0.004028\n",
       "Lancaster      0.003816\n",
       "Tonawanda      0.003604\n",
       "Name: TOWN, dtype: float64"
      ]
     },
     "execution_count": 23,
     "metadata": {},
     "output_type": "execute_result"
    }
   ],
   "source": [
    "#Calculating percent of wells in each town\n",
    "df_located.TOWN.value_counts(normalize=True).head(25)"
   ]
  }
 ],
 "metadata": {
  "colab": {
   "name": "wells_abandoned_github.ipynb",
   "provenance": []
  },
  "kernelspec": {
   "display_name": "Python 3 (ipykernel)",
   "language": "python",
   "name": "python3"
  },
  "language_info": {
   "codemirror_mode": {
    "name": "ipython",
    "version": 3
   },
   "file_extension": ".py",
   "mimetype": "text/x-python",
   "name": "python",
   "nbconvert_exporter": "python",
   "pygments_lexer": "ipython3",
   "version": "3.10.0"
  }
 },
 "nbformat": 4,
 "nbformat_minor": 1
}
