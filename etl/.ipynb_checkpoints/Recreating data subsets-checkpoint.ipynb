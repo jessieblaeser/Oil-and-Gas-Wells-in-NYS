{
 "cells": [
  {
   "cell_type": "markdown",
   "id": "6b030ba4",
   "metadata": {},
   "source": [
    "# Subsetting our two datasets for further analysis\n",
    "\n",
    "**Data sources:**\n",
    "* [Orphaned Wells](https://data.ny.gov/Energy-Environment/Orphaned-Wells/vgue-bamz): \"List of wells that are regulated under the Oil, Gas and Solution Mining Law (ECL Article 23) in New York State that are orphaned and not plugged,\" Last Updated: 12/16/21 | Downloaded: 3/25/22\n",
    "* [Oil, Gas, & Other Regulated Wells: Beginning 1860](https://data.ny.gov/Energy-Environment/Oil-Gas-Other-Regulated-Wells-Beginning-1860/szye-wmt3): \"Information on oil, gas, storage, solution salt, stratigraphic, and geothermal wells in New York State,\" Last Updated: 3/25/22 | Downloaded: 3/25/22\n",
    "\n",
    "**Output:**"
   ]
  },
  {
   "cell_type": "code",
   "execution_count": null,
   "id": "5910aeff",
   "metadata": {},
   "outputs": [],
   "source": []
  }
 ],
 "metadata": {
  "kernelspec": {
   "display_name": "Python 3 (ipykernel)",
   "language": "python",
   "name": "python3"
  },
  "language_info": {
   "codemirror_mode": {
    "name": "ipython",
    "version": 3
   },
   "file_extension": ".py",
   "mimetype": "text/x-python",
   "name": "python",
   "nbconvert_exporter": "python",
   "pygments_lexer": "ipython3",
   "version": "3.10.0"
  }
 },
 "nbformat": 4,
 "nbformat_minor": 5
}
